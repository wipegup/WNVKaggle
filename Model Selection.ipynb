{
 "cells": [
  {
   "cell_type": "code",
   "execution_count": 50,
   "metadata": {
    "collapsed": true
   },
   "outputs": [],
   "source": [
    "%run -i ProcessPipeline.py"
   ]
  },
  {
   "cell_type": "code",
   "execution_count": 77,
   "metadata": {
    "scrolled": false
   },
   "outputs": [
    {
     "name": "stdout",
     "output_type": "stream",
     "text": [
      "0 (116293, 10)\n",
      "1 (116293, 13)\n",
      "3 (116293, 21)\n",
      "2 (116293, 38)\n",
      "Wall time: 3min 46s\n"
     ]
    }
   ],
   "source": [
    "%%time\n",
    "\n",
    "FullTrain = pd.read_csv('./input/train.csv')\n",
    "Ftest = pd.read_csv('./input/test.csv', index_col= 0)\n",
    "\n",
    "FullTrain , Ftestpp = ProcessPipeline(FullTrain,Ftest)"
   ]
  },
  {
   "cell_type": "code",
   "execution_count": 78,
   "metadata": {
    "collapsed": true
   },
   "outputs": [],
   "source": [
    "import matplotlib.pyplot as plt\n",
    "import seaborn as sns\n",
    "from sklearn.preprocessing import StandardScaler\n",
    "from sklearn.model_selection import train_test_split"
   ]
  },
  {
   "cell_type": "code",
   "execution_count": 79,
   "metadata": {
    "collapsed": true
   },
   "outputs": [],
   "source": [
    "Ftest2 = Ftestpp.drop(['Date','Species','Trap','Location'], axis = 'columns')"
   ]
  },
  {
   "cell_type": "code",
   "execution_count": 6,
   "metadata": {},
   "outputs": [
    {
     "data": {
      "text/plain": [
       "Index(['NumMosquitos', 'WnvPresent', 'Date', 'Species', 'Trap', 'Latitude',\n",
       "       'Longitude', 'Location', 'CULEX PIPIENS', 'CULEX PIPIENS/RESTUANS',\n",
       "       'CULEX RESTUANS', 'CULEX SALINARIUS', 'CULEX TERRITANS',\n",
       "       'CULEX TARSALIS', 'CULEX ERRATICUS', 'DewPointamax', 'DewPointamin',\n",
       "       'DewPointmean', 'StnPressureamax', 'StnPressureamin', 'StnPressuremean',\n",
       "       'AvgSpeedamax', 'AvgSpeedamin', 'AvgSpeedmean', 'Tmaxamax', 'Tminamin',\n",
       "       'Tavgmean', 'PrecipTotalsum', 'PrecipTotalmean', 'temp_expected',\n",
       "       'temp_diff', 'sunset', 'W0', 'W1', 'W2', 'W3', 'P0', 'P1', 'P2', 'P3'],\n",
       "      dtype='object')"
      ]
     },
     "execution_count": 6,
     "metadata": {},
     "output_type": "execute_result"
    }
   ],
   "source": [
    "FullTrain.columns"
   ]
  },
  {
   "cell_type": "code",
   "execution_count": 80,
   "metadata": {
    "collapsed": true
   },
   "outputs": [],
   "source": [
    "target = FullTrain['WnvPresent']\n",
    "toDrop = ['Date', 'WnvPresent','Location','NumMosquitos','Species',\n",
    "          'Trap']\n",
    "\n",
    "X = FullTrain.drop(toDrop, axis = 'columns')\n",
    "X_train0, X_test0, y_train, y_test = train_test_split(X, target, test_size = .2)\n",
    "\n",
    "ss = StandardScaler()\n",
    "X_train = ss.fit_transform(X_train0)\n",
    "X_test = ss.transform(X_test0)\n",
    "Xss = ss.fit_transform(X)\n",
    "Ftest2 = ss.transform(Ftest2)"
   ]
  },
  {
   "cell_type": "code",
   "execution_count": 65,
   "metadata": {
    "collapsed": true
   },
   "outputs": [],
   "source": [
    "from sklearn.ensemble import RandomForestClassifier, GradientBoostingClassifier, BaggingClassifier, AdaBoostClassifier\n",
    "from sklearn.neighbors import KNeighborsClassifier\n",
    "from sklearn.model_selection import GridSearchCV, StratifiedKFold, RandomizedSearchCV\n",
    "\n",
    "\n",
    "def best_model(model_list, X_train, y_train):\n",
    "    \"\"\"\n",
    "    Runs a randomized search of 10 iters, and strat-kfold cv\n",
    "    And produces a list of classifiers - parameters - scores\n",
    "    for the best of each type of model\n",
    "    \n",
    "    To change it to ONLY spit out the best model, replace \n",
    "    \n",
    "    'return classifier' \n",
    "    \n",
    "    for\n",
    "    \n",
    "    'return best_classifier[1]'\n",
    "    \"\"\"\n",
    "    best_score = 0.0\n",
    "    best_classifier = None\n",
    "    classifiers = []\n",
    "    for name, model, parameters in model_list:\n",
    "        classifiers.append(best_config(name, model, parameters,\n",
    "                                       X_train,\n",
    "                                       y_train))\n",
    " \n",
    "    for name, score, classifier in classifiers:\n",
    "        if (score > best_score):\n",
    "            best_score = score\n",
    "            best_classifier = [name, classifier]\n",
    "    return best_classifier[1]\n",
    "\n",
    "def best_config(name, model, parameters, X_train, y_train):\n",
    "    \"\"\"\n",
    "    A simple GridSearch \n",
    "    Requires: model, parameters, X & y variables\n",
    "    +\n",
    "    \"\"\"\n",
    "    k = StratifiedKFold(n_splits=5)\n",
    "    print(\"Searching \"+str(name))\n",
    "    clf = RandomizedSearchCV(model, parameters[0], cv=k, \n",
    "                            n_iter=15, verbose=1, \n",
    "                             n_jobs=2)\n",
    "    clf.fit(X_train, y_train)\n",
    "    print(\"Finished \"+str(name))\n",
    "    print('')\n",
    "    return [str(clf.best_params_), \n",
    "            clf.best_score_, \n",
    "            clf.best_estimator_]\n",
    "\n",
    "def model_list():\n",
    "    \n",
    "    \"\"\"\n",
    "    Generates a list of models & params,\n",
    "    Add more manually, for more options\n",
    "    gb = GradientBoostingClassifier()\n",
    "    rf = RandomForestClassifier()\n",
    "    bg = BaggingClassifier()\n",
    "    ad = AdaBoostClassifier()\n",
    "    knn = KNeighborsClassifier()\n",
    "    \"\"\"\n",
    "    \n",
    "    models = []    \n",
    "\n",
    "    #gradient\n",
    "    gb_tuned_parameters = [{\"n_estimators\": [50, 75, 100, 150, 200, 250],\n",
    "                           'learning_rate' : [0.05, 0.1, 0.2], \n",
    "                            'min_samples_split' : [2, 3, 4], \n",
    "                            'max_depth' : [2, 3, 4, 5]}]\n",
    "    models.append(['GB', GradientBoostingClassifier(), gb_tuned_parameters])\n",
    " \n",
    "    #random forest\n",
    "    rf_tuned_parameters = [{\"max_depth\": [None, 2, 3, 4, 5],\n",
    "                           'criterion' : ['gini'], \n",
    "                            'min_samples_split' : [2, 3, 4], \n",
    "                            'min_samples_leaf' : [1, 2, 3]}]\n",
    "    models.append([\"RandomForest\",RandomForestClassifier(n_jobs=-1),rf_tuned_parameters])\n",
    "\n",
    "    #Bagged\n",
    "    bg_tuned_parameters = [{\"n_estimators\": [x for x in range(2,20)]}]\n",
    "    models.append(['BG', BaggingClassifier(), bg_tuned_parameters])\n",
    "\n",
    "    #Ada Model\n",
    "    ad_tuned_parameters = [{\"n_estimators\": [x for x in range(2,20)]}]\n",
    "    models.append(['AD', AdaBoostClassifier(), ad_tuned_parameters])\n",
    "    \n",
    "    #kNN Model\n",
    "    knn_tuned_parameters = [{\"n_neighbors\": [1, 3, 5, 10, 20], \n",
    "                             'weights':['uniform','distance'],\n",
    "                            'metric':['euclidean','manhattan']}]\n",
    "    models.append([\"kNN\", KNeighborsClassifier(),knn_tuned_parameters])\n",
    "    return models"
   ]
  },
  {
   "cell_type": "code",
   "execution_count": 66,
   "metadata": {},
   "outputs": [
    {
     "name": "stdout",
     "output_type": "stream",
     "text": [
      "Searching GB\n",
      "Fitting 5 folds for each of 15 candidates, totalling 75 fits\n"
     ]
    },
    {
     "name": "stderr",
     "output_type": "stream",
     "text": [
      "[Parallel(n_jobs=2)]: Done  46 tasks      | elapsed:   33.5s\n",
      "[Parallel(n_jobs=2)]: Done  75 out of  75 | elapsed:   50.0s finished\n"
     ]
    },
    {
     "name": "stdout",
     "output_type": "stream",
     "text": [
      "Finished GB\n",
      "\n",
      "Searching RandomForest\n",
      "Fitting 5 folds for each of 15 candidates, totalling 75 fits\n"
     ]
    },
    {
     "name": "stderr",
     "output_type": "stream",
     "text": [
      "[Parallel(n_jobs=2)]: Done  46 tasks      | elapsed:   15.5s\n",
      "[Parallel(n_jobs=2)]: Done  75 out of  75 | elapsed:   20.5s finished\n"
     ]
    },
    {
     "name": "stdout",
     "output_type": "stream",
     "text": [
      "Finished RandomForest\n",
      "\n",
      "Searching BG\n",
      "Fitting 5 folds for each of 15 candidates, totalling 75 fits\n"
     ]
    },
    {
     "name": "stderr",
     "output_type": "stream",
     "text": [
      "[Parallel(n_jobs=2)]: Done  46 tasks      | elapsed:   17.2s\n",
      "[Parallel(n_jobs=2)]: Done  75 out of  75 | elapsed:   21.3s finished\n"
     ]
    },
    {
     "name": "stdout",
     "output_type": "stream",
     "text": [
      "Finished BG\n",
      "\n",
      "Searching AD\n",
      "Fitting 5 folds for each of 15 candidates, totalling 75 fits\n"
     ]
    },
    {
     "name": "stderr",
     "output_type": "stream",
     "text": [
      "[Parallel(n_jobs=2)]: Done  58 tasks      | elapsed:   10.6s\n",
      "[Parallel(n_jobs=2)]: Done  72 out of  75 | elapsed:   11.4s remaining:    0.4s\n",
      "[Parallel(n_jobs=2)]: Done  75 out of  75 | elapsed:   11.5s finished\n"
     ]
    },
    {
     "name": "stdout",
     "output_type": "stream",
     "text": [
      "Finished AD\n",
      "\n",
      "Searching kNN\n",
      "Fitting 5 folds for each of 15 candidates, totalling 75 fits\n"
     ]
    },
    {
     "name": "stderr",
     "output_type": "stream",
     "text": [
      "[Parallel(n_jobs=2)]: Done  46 tasks      | elapsed:   59.9s\n"
     ]
    },
    {
     "name": "stdout",
     "output_type": "stream",
     "text": [
      "Finished kNN\n",
      "\n"
     ]
    },
    {
     "name": "stderr",
     "output_type": "stream",
     "text": [
      "[Parallel(n_jobs=2)]: Done  75 out of  75 | elapsed:  1.6min finished\n"
     ]
    }
   ],
   "source": [
    "GS_model = best_model(model_list(),X_train,y_train)"
   ]
  },
  {
   "cell_type": "code",
   "execution_count": 67,
   "metadata": {},
   "outputs": [
    {
     "data": {
      "text/plain": [
       "GradientBoostingClassifier(criterion='friedman_mse', init=None,\n",
       "              learning_rate=0.05, loss='deviance', max_depth=2,\n",
       "              max_features=None, max_leaf_nodes=None,\n",
       "              min_impurity_decrease=0.0, min_impurity_split=None,\n",
       "              min_samples_leaf=1, min_samples_split=3,\n",
       "              min_weight_fraction_leaf=0.0, n_estimators=250,\n",
       "              presort='auto', random_state=None, subsample=1.0, verbose=0,\n",
       "              warm_start=False)"
      ]
     },
     "execution_count": 67,
     "metadata": {},
     "output_type": "execute_result"
    }
   ],
   "source": [
    "GS_model"
   ]
  },
  {
   "cell_type": "code",
   "execution_count": 14,
   "metadata": {},
   "outputs": [
    {
     "data": {
      "text/plain": [
       "0.80082970244932272"
      ]
     },
     "execution_count": 14,
     "metadata": {},
     "output_type": "execute_result"
    }
   ],
   "source": [
    "from sklearn.metrics import roc_auc_score\n",
    "gb= GradientBoostingClassifier(n_estimators = 75,\n",
    "                               min_samples_split= 4, max_depth = 3, \n",
    "                              learning_rate = .05)\n",
    "gb.fit(X_train,y_train)\n",
    "predProb = gb.predict_proba(X_test)\n",
    "roc_auc_score(y_test, predProb[:,1])"
   ]
  },
  {
   "cell_type": "code",
   "execution_count": 81,
   "metadata": {
    "scrolled": false
   },
   "outputs": [],
   "source": [
    "rf = RandomForestClassifier(n_jobs = -1, n_estimators = 200)\n",
    "rf.fit(X, target)\n",
    "predProb = rf.predict_proba(X)\n",
    "roc_auc_score(target, predProb[:,1])\n",
    "\n",
    "testProb = rf.predict_proba(Ftest2)[:,1]"
   ]
  },
  {
   "cell_type": "code",
   "execution_count": 82,
   "metadata": {},
   "outputs": [
    {
     "data": {
      "text/plain": [
       "1.0"
      ]
     },
     "execution_count": 82,
     "metadata": {},
     "output_type": "execute_result"
    }
   ],
   "source": [
    "roc_auc_score(target, predProb[:,1])"
   ]
  },
  {
   "cell_type": "code",
   "execution_count": 17,
   "metadata": {},
   "outputs": [
    {
     "data": {
      "text/plain": [
       "0.82247704361552632"
      ]
     },
     "execution_count": 17,
     "metadata": {},
     "output_type": "execute_result"
    }
   ],
   "source": [
    "bg = AdaBoostClassifier()\n",
    "bg.fit(X_train,y_train)\n",
    "predProb = bg.predict_proba(Ftest2)\n",
    "roc_auc_score(y_test, predProb[:,1])"
   ]
  },
  {
   "cell_type": "code",
   "execution_count": 26,
   "metadata": {},
   "outputs": [
    {
     "data": {
      "text/plain": [
       "(112650, 38)"
      ]
     },
     "execution_count": 26,
     "metadata": {},
     "output_type": "execute_result"
    }
   ],
   "source": [
    "Ftest.shape"
   ]
  },
  {
   "cell_type": "code",
   "execution_count": 25,
   "metadata": {},
   "outputs": [
    {
     "data": {
      "text/plain": [
       "(112650, 32)"
      ]
     },
     "execution_count": 25,
     "metadata": {},
     "output_type": "execute_result"
    }
   ],
   "source": [
    "Ftest2.shape"
   ]
  },
  {
   "cell_type": "code",
   "execution_count": 54,
   "metadata": {
    "collapsed": true
   },
   "outputs": [],
   "source": [
    "predProb = bg.predict_proba(Ftest2)[:,1]"
   ]
  },
  {
   "cell_type": "code",
   "execution_count": 83,
   "metadata": {},
   "outputs": [],
   "source": [
    "dfs = pd.DataFrame(testProb)\n",
    "dfs.columns = ['WnvPresent']\n",
    "dfs['Id'] = range(1,len(dfs)+1)\n",
    "dfs.index = range(1, len(dfs)+1)\n",
    "dfs = dfs[['Id','WnvPresent']]\n",
    "dfs.to_csv('preds3.csv', index = False)"
   ]
  },
  {
   "cell_type": "code",
   "execution_count": null,
   "metadata": {
    "collapsed": true
   },
   "outputs": [],
   "source": [
    "predProb = bg.predict_proba()"
   ]
  }
 ],
 "metadata": {
  "kernelspec": {
   "display_name": "Python 3",
   "language": "python",
   "name": "python3"
  },
  "language_info": {
   "codemirror_mode": {
    "name": "ipython",
    "version": 3
   },
   "file_extension": ".py",
   "mimetype": "text/x-python",
   "name": "python",
   "nbconvert_exporter": "python",
   "pygments_lexer": "ipython3",
   "version": "3.6.3"
  }
 },
 "nbformat": 4,
 "nbformat_minor": 2
}
