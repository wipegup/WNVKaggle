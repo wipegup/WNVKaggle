{
 "cells": [
  {
   "cell_type": "code",
   "execution_count": 8,
   "metadata": {
    "collapsed": true
   },
   "outputs": [],
   "source": [
    "import pickle\n",
    "\n",
    "#data = [df,spray,(weather_st1, weather_st2)]\n",
    "\n",
    "with open('cleanData.pickle', 'rb') as f:\n",
    "    data = pickle.load(f)\n",
    "    \n",
    "df = data[0]"
   ]
  },
  {
   "cell_type": "code",
   "execution_count": 9,
   "metadata": {
    "collapsed": true
   },
   "outputs": [],
   "source": [
    "import shapefile\n",
    "from scipy.spatial import cKDTree\n",
    "import numpy as np\n",
    "import pandas as pd"
   ]
  },
  {
   "cell_type": "code",
   "execution_count": 10,
   "metadata": {
    "collapsed": true
   },
   "outputs": [],
   "source": [
    "from os import listdir\n",
    "from os.path import isfile, join\n",
    "\n",
    "parkDir = './AddData/Parks/'\n",
    "waterDir = './AddData/Water/'\n",
    "\n",
    "parks = [f for f in listdir(parkDir) if isfile(join(parkDir,f)) if f.count('.csv') ==0]\n",
    "water = [f for f in listdir(waterDir) if isfile(join(waterDir,f))if f.count('.csv') ==0]\n",
    "\n",
    "parkShape = parkDir + parks[0].split('.')[0]\n",
    "waterShape = waterDir + water[0].split('.')[0]"
   ]
  },
  {
   "cell_type": "code",
   "execution_count": 11,
   "metadata": {
    "collapsed": true
   },
   "outputs": [],
   "source": [
    "psf = shapefile.Reader(parkShape)\n",
    "wsf = shapefile.Reader(waterShape)\n",
    "\n",
    "parkSR = psf.shapeRecords()\n",
    "waterSR = wsf.shapeRecords()"
   ]
  },
  {
   "cell_type": "code",
   "execution_count": 19,
   "metadata": {},
   "outputs": [
    {
     "data": {
      "text/plain": [
       "1.14"
      ]
     },
     "execution_count": 19,
     "metadata": {},
     "output_type": "execute_result"
    }
   ],
   "source": [
    "parkSR[0].record[19] ## Area of park"
   ]
  },
  {
   "cell_type": "code",
   "execution_count": 20,
   "metadata": {
    "collapsed": true
   },
   "outputs": [],
   "source": [
    "parkSize = {}\n",
    "for s in parkSR:\n",
    "    parkSize[s.record[4]] = s.record[19]"
   ]
  },
  {
   "cell_type": "code",
   "execution_count": 12,
   "metadata": {
    "collapsed": true
   },
   "outputs": [],
   "source": [
    "# Create cKDTree functions in Dict\n",
    "\n",
    "# Key: Identifier (number for water, park name for park)\n",
    "# Value: cKDTree function built on all the points associated with water/park feature\n",
    "\n",
    "waterFinder={}\n",
    "for i, s in enumerate(waterSR):\n",
    "    waterFinder[i] = cKDTree(s.shape.points)\n",
    "\n",
    "parkFinder = {}\n",
    "for s in parkSR:\n",
    "    parkFinder[s.record[4]] = cKDTree(s.shape.points)"
   ]
  },
  {
   "cell_type": "code",
   "execution_count": 22,
   "metadata": {},
   "outputs": [],
   "source": [
    "# Builds Distance Dictionaries:\n",
    "# Key 1: Unique Location from DF\n",
    "# Key 2: water/park ID\n",
    "# Value: Distance from K1 to K2\n",
    "\n",
    "uniqueLocs = df['Location'].unique()\n",
    "parkDist = {}\n",
    "waterDist = {}\n",
    "\n",
    "for l in uniqueLocs:\n",
    "    parkDist[l] = {}\n",
    "    waterDist[l] = {}\n",
    "    \n",
    "    for k in parkFinder:\n",
    "        parkDist[l][k]= (parkFinder[k].query(l,1)[0], parkSize[k])\n",
    "    \n",
    "    for k in waterFinder:\n",
    "        waterDist[l][k] = waterFinder[k].query(l,1)[0]"
   ]
  },
  {
   "cell_type": "code",
   "execution_count": 44,
   "metadata": {},
   "outputs": [],
   "source": [
    "# Dictionary For water features where:\n",
    "# Key: Location\n",
    "# Value: Distance to nearest water feature\n",
    "\n",
    "distToWater = {}\n",
    "for k in waterDist:\n",
    "    distToWater[k] = min(waterDist[k].values())\n",
    "\n",
    "# Dictionary for park features where:\n",
    "# Key: Unique Location\n",
    "# Value: Sum of proximity influence of all parks\n",
    "# Proximity influence based on inverse square law:\n",
    "# sum of all [ area of park / (distance to park)^2]\n",
    "\n",
    "parkProx = {}\n",
    "\n",
    "for k in parkDist:\n",
    "    proxVal = 0\n",
    "    for k2 in parkDist[k]:\n",
    "        current = parkDist[k][k2]\n",
    "        #print(current[1])\n",
    "        #print(current[0]**2)\n",
    "        proxVal += current[1] / ((1*current[0])**2)\n",
    "    \n",
    "    parkProx[k] = proxVal"
   ]
  }
 ],
 "metadata": {
  "kernelspec": {
   "display_name": "Python 3",
   "language": "python",
   "name": "python3"
  },
  "language_info": {
   "codemirror_mode": {
    "name": "ipython",
    "version": 3
   },
   "file_extension": ".py",
   "mimetype": "text/x-python",
   "name": "python",
   "nbconvert_exporter": "python",
   "pygments_lexer": "ipython3",
   "version": "3.6.3"
  }
 },
 "nbformat": 4,
 "nbformat_minor": 2
}
