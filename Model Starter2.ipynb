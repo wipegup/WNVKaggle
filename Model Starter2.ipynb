{
 "cells": [
  {
   "cell_type": "markdown",
   "metadata": {},
   "source": [
    "### Model Building Starter\n",
    "\n",
    "Below are all the relevant dataframes\n",
    "\n",
    "Only thing that remains to be done is aggregate for when there are multiple observations for a single trap/day/species  \n",
    "\n",
    "\n",
    "`df_w` include all the aggregated weather  \n",
    "`df_a` includes weather and park/water data (note park/water data are svd features  \n",
    "`df_s` includes all the spray data (so only years 2011/13) with categorically encoded \"spray before\" and \"spray after\" Variables  \n",
    "\n",
    "\n",
    "No train/test splits have been done, but what we discussed was as standard train/test split for the spray data, and 4-fold CV for the other data, split by year (there is a 'yr' column in the dfs)"
   ]
  },
  {
   "cell_type": "code",
   "execution_count": 120,
   "metadata": {
    "collapsed": true
   },
   "outputs": [],
   "source": [
    "import pickle\n",
    "\n",
    "with open('allDF.pickle','rb') as f:\n",
    "    allDF = pickle.load(f)\n",
    "    \n",
    "df_w = allDF[0]\n",
    "df_a = allDF[1]\n",
    "df_s = allDF[2]"
   ]
  },
  {
   "cell_type": "code",
   "execution_count": 91,
   "metadata": {},
   "outputs": [
    {
     "data": {
      "text/html": [
       "<div>\n",
       "<style>\n",
       "    .dataframe thead tr:only-child th {\n",
       "        text-align: right;\n",
       "    }\n",
       "\n",
       "    .dataframe thead th {\n",
       "        text-align: left;\n",
       "    }\n",
       "\n",
       "    .dataframe tbody tr th {\n",
       "        vertical-align: top;\n",
       "    }\n",
       "</style>\n",
       "<table border=\"1\" class=\"dataframe\">\n",
       "  <thead>\n",
       "    <tr style=\"text-align: right;\">\n",
       "      <th></th>\n",
       "      <th>NumMosquitos</th>\n",
       "      <th>WnvPresent</th>\n",
       "      <th>Date</th>\n",
       "      <th>Trap</th>\n",
       "      <th>Yr</th>\n",
       "      <th>Mo</th>\n",
       "      <th>Week</th>\n",
       "      <th>Location</th>\n",
       "      <th>CULEX PIPIENS</th>\n",
       "      <th>CULEX PIPIENS/RESTUANS</th>\n",
       "      <th>...</th>\n",
       "      <th>StnPressureamin</th>\n",
       "      <th>StnPressuremean</th>\n",
       "      <th>AvgSpeedamax</th>\n",
       "      <th>AvgSpeedamin</th>\n",
       "      <th>AvgSpeedmean</th>\n",
       "      <th>temp_max</th>\n",
       "      <th>temp_min</th>\n",
       "      <th>temp_avg</th>\n",
       "      <th>precip_total</th>\n",
       "      <th>precip_avg</th>\n",
       "    </tr>\n",
       "  </thead>\n",
       "  <tbody>\n",
       "    <tr>\n",
       "      <th>0</th>\n",
       "      <td>1</td>\n",
       "      <td>0</td>\n",
       "      <td>2007-05-29</td>\n",
       "      <td>T048</td>\n",
       "      <td>2007</td>\n",
       "      <td>5</td>\n",
       "      <td>22</td>\n",
       "      <td>(-87.654224, 41.867108)</td>\n",
       "      <td>0</td>\n",
       "      <td>1</td>\n",
       "      <td>...</td>\n",
       "      <td>29.13</td>\n",
       "      <td>29.384</td>\n",
       "      <td>17.3</td>\n",
       "      <td>5.3</td>\n",
       "      <td>10.013333</td>\n",
       "      <td>89</td>\n",
       "      <td>42</td>\n",
       "      <td>64.466667</td>\n",
       "      <td>1.662</td>\n",
       "      <td>0.1108</td>\n",
       "    </tr>\n",
       "    <tr>\n",
       "      <th>1</th>\n",
       "      <td>2</td>\n",
       "      <td>0</td>\n",
       "      <td>2007-05-29</td>\n",
       "      <td>T048</td>\n",
       "      <td>2007</td>\n",
       "      <td>5</td>\n",
       "      <td>22</td>\n",
       "      <td>(-87.654224, 41.867108)</td>\n",
       "      <td>0</td>\n",
       "      <td>0</td>\n",
       "      <td>...</td>\n",
       "      <td>29.13</td>\n",
       "      <td>29.384</td>\n",
       "      <td>17.3</td>\n",
       "      <td>5.3</td>\n",
       "      <td>10.013333</td>\n",
       "      <td>89</td>\n",
       "      <td>42</td>\n",
       "      <td>64.466667</td>\n",
       "      <td>1.662</td>\n",
       "      <td>0.1108</td>\n",
       "    </tr>\n",
       "    <tr>\n",
       "      <th>2</th>\n",
       "      <td>1</td>\n",
       "      <td>0</td>\n",
       "      <td>2007-05-29</td>\n",
       "      <td>T091</td>\n",
       "      <td>2007</td>\n",
       "      <td>5</td>\n",
       "      <td>22</td>\n",
       "      <td>(-87.64886, 41.862292)</td>\n",
       "      <td>0</td>\n",
       "      <td>0</td>\n",
       "      <td>...</td>\n",
       "      <td>29.13</td>\n",
       "      <td>29.384</td>\n",
       "      <td>17.3</td>\n",
       "      <td>5.3</td>\n",
       "      <td>10.013333</td>\n",
       "      <td>89</td>\n",
       "      <td>42</td>\n",
       "      <td>64.466667</td>\n",
       "      <td>1.662</td>\n",
       "      <td>0.1108</td>\n",
       "    </tr>\n",
       "    <tr>\n",
       "      <th>3</th>\n",
       "      <td>1</td>\n",
       "      <td>0</td>\n",
       "      <td>2007-05-29</td>\n",
       "      <td>T049</td>\n",
       "      <td>2007</td>\n",
       "      <td>5</td>\n",
       "      <td>22</td>\n",
       "      <td>(-87.655232, 41.896282)</td>\n",
       "      <td>0</td>\n",
       "      <td>0</td>\n",
       "      <td>...</td>\n",
       "      <td>29.13</td>\n",
       "      <td>29.384</td>\n",
       "      <td>17.3</td>\n",
       "      <td>5.3</td>\n",
       "      <td>10.013333</td>\n",
       "      <td>89</td>\n",
       "      <td>42</td>\n",
       "      <td>64.466667</td>\n",
       "      <td>1.662</td>\n",
       "      <td>0.1108</td>\n",
       "    </tr>\n",
       "    <tr>\n",
       "      <th>4</th>\n",
       "      <td>1</td>\n",
       "      <td>0</td>\n",
       "      <td>2007-05-29</td>\n",
       "      <td>T153</td>\n",
       "      <td>2007</td>\n",
       "      <td>5</td>\n",
       "      <td>22</td>\n",
       "      <td>(-87.760886, 41.907645)</td>\n",
       "      <td>0</td>\n",
       "      <td>0</td>\n",
       "      <td>...</td>\n",
       "      <td>29.13</td>\n",
       "      <td>29.384</td>\n",
       "      <td>17.3</td>\n",
       "      <td>5.3</td>\n",
       "      <td>10.013333</td>\n",
       "      <td>89</td>\n",
       "      <td>42</td>\n",
       "      <td>64.466667</td>\n",
       "      <td>1.662</td>\n",
       "      <td>0.1108</td>\n",
       "    </tr>\n",
       "  </tbody>\n",
       "</table>\n",
       "<p>5 rows × 29 columns</p>\n",
       "</div>"
      ],
      "text/plain": [
       "   NumMosquitos  WnvPresent       Date  Trap    Yr  Mo  Week  \\\n",
       "0             1           0 2007-05-29  T048  2007   5    22   \n",
       "1             2           0 2007-05-29  T048  2007   5    22   \n",
       "2             1           0 2007-05-29  T091  2007   5    22   \n",
       "3             1           0 2007-05-29  T049  2007   5    22   \n",
       "4             1           0 2007-05-29  T153  2007   5    22   \n",
       "\n",
       "                  Location  CULEX PIPIENS  CULEX PIPIENS/RESTUANS     ...      \\\n",
       "0  (-87.654224, 41.867108)              0                       1     ...       \n",
       "1  (-87.654224, 41.867108)              0                       0     ...       \n",
       "2   (-87.64886, 41.862292)              0                       0     ...       \n",
       "3  (-87.655232, 41.896282)              0                       0     ...       \n",
       "4  (-87.760886, 41.907645)              0                       0     ...       \n",
       "\n",
       "   StnPressureamin  StnPressuremean  AvgSpeedamax  AvgSpeedamin  AvgSpeedmean  \\\n",
       "0            29.13           29.384          17.3           5.3     10.013333   \n",
       "1            29.13           29.384          17.3           5.3     10.013333   \n",
       "2            29.13           29.384          17.3           5.3     10.013333   \n",
       "3            29.13           29.384          17.3           5.3     10.013333   \n",
       "4            29.13           29.384          17.3           5.3     10.013333   \n",
       "\n",
       "   temp_max  temp_min   temp_avg  precip_total  precip_avg  \n",
       "0        89        42  64.466667         1.662      0.1108  \n",
       "1        89        42  64.466667         1.662      0.1108  \n",
       "2        89        42  64.466667         1.662      0.1108  \n",
       "3        89        42  64.466667         1.662      0.1108  \n",
       "4        89        42  64.466667         1.662      0.1108  \n",
       "\n",
       "[5 rows x 29 columns]"
      ]
     },
     "execution_count": 91,
     "metadata": {},
     "output_type": "execute_result"
    }
   ],
   "source": [
    "df_w.head()"
   ]
  },
  {
   "cell_type": "code",
   "execution_count": 92,
   "metadata": {},
   "outputs": [
    {
     "data": {
      "text/plain": [
       "Index(['NumMosquitos', 'WnvPresent', 'Date', 'Trap', 'Yr', 'Mo', 'Week',\n",
       "       'Location', 'CULEX PIPIENS', 'CULEX PIPIENS/RESTUANS', 'CULEX RESTUANS',\n",
       "       'CULEX SALINARIUS', 'CULEX TERRITANS', 'CULEX TARSALIS',\n",
       "       'CULEX ERRATICUS', 'DewPointamax', 'DewPointamin', 'DewPointmean',\n",
       "       'StnPressureamax', 'StnPressureamin', 'StnPressuremean', 'AvgSpeedamax',\n",
       "       'AvgSpeedamin', 'AvgSpeedmean', 'temp_max', 'temp_min', 'temp_avg',\n",
       "       'precip_total', 'precip_avg'],\n",
       "      dtype='object')"
      ]
     },
     "execution_count": 92,
     "metadata": {},
     "output_type": "execute_result"
    }
   ],
   "source": [
    "df_w.columns"
   ]
  },
  {
   "cell_type": "code",
   "execution_count": 117,
   "metadata": {},
   "outputs": [
    {
     "data": {
      "text/html": [
       "<div>\n",
       "<style>\n",
       "    .dataframe thead tr:only-child th {\n",
       "        text-align: right;\n",
       "    }\n",
       "\n",
       "    .dataframe thead th {\n",
       "        text-align: left;\n",
       "    }\n",
       "\n",
       "    .dataframe tbody tr th {\n",
       "        vertical-align: top;\n",
       "    }\n",
       "</style>\n",
       "<table border=\"1\" class=\"dataframe\">\n",
       "  <thead>\n",
       "    <tr style=\"text-align: right;\">\n",
       "      <th></th>\n",
       "      <th>NumMosquitos</th>\n",
       "      <th>WnvPresent</th>\n",
       "      <th>Date</th>\n",
       "      <th>Trap</th>\n",
       "      <th>Yr</th>\n",
       "      <th>Mo</th>\n",
       "      <th>Week</th>\n",
       "      <th>Location</th>\n",
       "      <th>CULEX PIPIENS</th>\n",
       "      <th>CULEX PIPIENS/RESTUANS</th>\n",
       "      <th>...</th>\n",
       "      <th>Park2</th>\n",
       "      <th>Park3</th>\n",
       "      <th>Park4</th>\n",
       "      <th>Park5</th>\n",
       "      <th>Water0</th>\n",
       "      <th>Water1</th>\n",
       "      <th>Water2</th>\n",
       "      <th>Water3</th>\n",
       "      <th>Water4</th>\n",
       "      <th>Water5</th>\n",
       "    </tr>\n",
       "  </thead>\n",
       "  <tbody>\n",
       "    <tr>\n",
       "      <th>0</th>\n",
       "      <td>1</td>\n",
       "      <td>0</td>\n",
       "      <td>2007-05-29</td>\n",
       "      <td>T048</td>\n",
       "      <td>2007</td>\n",
       "      <td>5</td>\n",
       "      <td>22</td>\n",
       "      <td>(-87.654224, 41.867108)</td>\n",
       "      <td>0</td>\n",
       "      <td>1</td>\n",
       "      <td>...</td>\n",
       "      <td>29715.14289</td>\n",
       "      <td>67489.311127</td>\n",
       "      <td>61468.115233</td>\n",
       "      <td>3092.465154</td>\n",
       "      <td>3.82796</td>\n",
       "      <td>0.108809</td>\n",
       "      <td>-1.189728</td>\n",
       "      <td>-0.10479</td>\n",
       "      <td>0.184891</td>\n",
       "      <td>0.114866</td>\n",
       "    </tr>\n",
       "    <tr>\n",
       "      <th>1</th>\n",
       "      <td>2</td>\n",
       "      <td>0</td>\n",
       "      <td>2007-05-29</td>\n",
       "      <td>T048</td>\n",
       "      <td>2007</td>\n",
       "      <td>5</td>\n",
       "      <td>22</td>\n",
       "      <td>(-87.654224, 41.867108)</td>\n",
       "      <td>0</td>\n",
       "      <td>0</td>\n",
       "      <td>...</td>\n",
       "      <td>29715.14289</td>\n",
       "      <td>67489.311127</td>\n",
       "      <td>61468.115233</td>\n",
       "      <td>3092.465154</td>\n",
       "      <td>3.82796</td>\n",
       "      <td>0.108809</td>\n",
       "      <td>-1.189728</td>\n",
       "      <td>-0.10479</td>\n",
       "      <td>0.184891</td>\n",
       "      <td>0.114866</td>\n",
       "    </tr>\n",
       "    <tr>\n",
       "      <th>25</th>\n",
       "      <td>2</td>\n",
       "      <td>0</td>\n",
       "      <td>2007-06-05</td>\n",
       "      <td>T048</td>\n",
       "      <td>2007</td>\n",
       "      <td>6</td>\n",
       "      <td>23</td>\n",
       "      <td>(-87.654224, 41.867108)</td>\n",
       "      <td>1</td>\n",
       "      <td>0</td>\n",
       "      <td>...</td>\n",
       "      <td>29715.14289</td>\n",
       "      <td>67489.311127</td>\n",
       "      <td>61468.115233</td>\n",
       "      <td>3092.465154</td>\n",
       "      <td>3.82796</td>\n",
       "      <td>0.108809</td>\n",
       "      <td>-1.189728</td>\n",
       "      <td>-0.10479</td>\n",
       "      <td>0.184891</td>\n",
       "      <td>0.114866</td>\n",
       "    </tr>\n",
       "    <tr>\n",
       "      <th>26</th>\n",
       "      <td>1</td>\n",
       "      <td>0</td>\n",
       "      <td>2007-06-05</td>\n",
       "      <td>T048</td>\n",
       "      <td>2007</td>\n",
       "      <td>6</td>\n",
       "      <td>23</td>\n",
       "      <td>(-87.654224, 41.867108)</td>\n",
       "      <td>0</td>\n",
       "      <td>1</td>\n",
       "      <td>...</td>\n",
       "      <td>29715.14289</td>\n",
       "      <td>67489.311127</td>\n",
       "      <td>61468.115233</td>\n",
       "      <td>3092.465154</td>\n",
       "      <td>3.82796</td>\n",
       "      <td>0.108809</td>\n",
       "      <td>-1.189728</td>\n",
       "      <td>-0.10479</td>\n",
       "      <td>0.184891</td>\n",
       "      <td>0.114866</td>\n",
       "    </tr>\n",
       "    <tr>\n",
       "      <th>27</th>\n",
       "      <td>1</td>\n",
       "      <td>0</td>\n",
       "      <td>2007-06-05</td>\n",
       "      <td>T048</td>\n",
       "      <td>2007</td>\n",
       "      <td>6</td>\n",
       "      <td>23</td>\n",
       "      <td>(-87.654224, 41.867108)</td>\n",
       "      <td>0</td>\n",
       "      <td>0</td>\n",
       "      <td>...</td>\n",
       "      <td>29715.14289</td>\n",
       "      <td>67489.311127</td>\n",
       "      <td>61468.115233</td>\n",
       "      <td>3092.465154</td>\n",
       "      <td>3.82796</td>\n",
       "      <td>0.108809</td>\n",
       "      <td>-1.189728</td>\n",
       "      <td>-0.10479</td>\n",
       "      <td>0.184891</td>\n",
       "      <td>0.114866</td>\n",
       "    </tr>\n",
       "  </tbody>\n",
       "</table>\n",
       "<p>5 rows × 41 columns</p>\n",
       "</div>"
      ],
      "text/plain": [
       "    NumMosquitos  WnvPresent       Date  Trap    Yr  Mo  Week  \\\n",
       "0              1           0 2007-05-29  T048  2007   5    22   \n",
       "1              2           0 2007-05-29  T048  2007   5    22   \n",
       "25             2           0 2007-06-05  T048  2007   6    23   \n",
       "26             1           0 2007-06-05  T048  2007   6    23   \n",
       "27             1           0 2007-06-05  T048  2007   6    23   \n",
       "\n",
       "                   Location  CULEX PIPIENS  CULEX PIPIENS/RESTUANS    ...     \\\n",
       "0   (-87.654224, 41.867108)              0                       1    ...      \n",
       "1   (-87.654224, 41.867108)              0                       0    ...      \n",
       "25  (-87.654224, 41.867108)              1                       0    ...      \n",
       "26  (-87.654224, 41.867108)              0                       1    ...      \n",
       "27  (-87.654224, 41.867108)              0                       0    ...      \n",
       "\n",
       "          Park2         Park3         Park4        Park5   Water0    Water1  \\\n",
       "0   29715.14289  67489.311127  61468.115233  3092.465154  3.82796  0.108809   \n",
       "1   29715.14289  67489.311127  61468.115233  3092.465154  3.82796  0.108809   \n",
       "25  29715.14289  67489.311127  61468.115233  3092.465154  3.82796  0.108809   \n",
       "26  29715.14289  67489.311127  61468.115233  3092.465154  3.82796  0.108809   \n",
       "27  29715.14289  67489.311127  61468.115233  3092.465154  3.82796  0.108809   \n",
       "\n",
       "      Water2   Water3    Water4    Water5  \n",
       "0  -1.189728 -0.10479  0.184891  0.114866  \n",
       "1  -1.189728 -0.10479  0.184891  0.114866  \n",
       "25 -1.189728 -0.10479  0.184891  0.114866  \n",
       "26 -1.189728 -0.10479  0.184891  0.114866  \n",
       "27 -1.189728 -0.10479  0.184891  0.114866  \n",
       "\n",
       "[5 rows x 41 columns]"
      ]
     },
     "execution_count": 117,
     "metadata": {},
     "output_type": "execute_result"
    }
   ],
   "source": [
    "df = df_a\n",
    "df.head()"
   ]
  },
  {
   "cell_type": "code",
   "execution_count": 115,
   "metadata": {},
   "outputs": [
    {
     "data": {
      "text/plain": [
       "Index(['NumMosquitos', 'WnvPresent', 'Date', 'Trap', 'Yr', 'Mo', 'Week',\n",
       "       'Location', 'CULEX PIPIENS', 'CULEX PIPIENS/RESTUANS', 'CULEX RESTUANS',\n",
       "       'CULEX SALINARIUS', 'CULEX TERRITANS', 'CULEX TARSALIS',\n",
       "       'CULEX ERRATICUS', 'DewPointamax', 'DewPointamin', 'DewPointmean',\n",
       "       'StnPressureamax', 'StnPressureamin', 'StnPressuremean', 'AvgSpeedamax',\n",
       "       'AvgSpeedamin', 'AvgSpeedmean', 'temp_max', 'temp_min', 'temp_avg',\n",
       "       'precip_total', 'precip_avg', 'Park0', 'Park1', 'Park2', 'Park3',\n",
       "       'Park4', 'Park5', 'Water0', 'Water1', 'Water2', 'Water3', 'Water4',\n",
       "       'Water5'],\n",
       "      dtype='object')"
      ]
     },
     "execution_count": 115,
     "metadata": {},
     "output_type": "execute_result"
    }
   ],
   "source": [
    "df_a.columns"
   ]
  },
  {
   "cell_type": "code",
   "execution_count": 121,
   "metadata": {},
   "outputs": [
    {
     "ename": "ValueError",
     "evalue": "labels ['Species' 'Latitude' 'Longitude'] not contained in axis",
     "output_type": "error",
     "traceback": [
      "\u001b[1;31m---------------------------------------------------------------------------\u001b[0m",
      "\u001b[1;31mValueError\u001b[0m                                Traceback (most recent call last)",
      "\u001b[1;32m<ipython-input-121-7725da8418da>\u001b[0m in \u001b[0;36m<module>\u001b[1;34m()\u001b[0m\n\u001b[0;32m      6\u001b[0m \u001b[1;33m\u001b[0m\u001b[0m\n\u001b[0;32m      7\u001b[0m \u001b[0mtoDrop\u001b[0m \u001b[1;33m=\u001b[0m \u001b[1;33m[\u001b[0m\u001b[1;34m'Date'\u001b[0m\u001b[1;33m,\u001b[0m\u001b[1;34m'WnvPresent'\u001b[0m\u001b[1;33m,\u001b[0m\u001b[1;34m'Location'\u001b[0m\u001b[1;33m,\u001b[0m\u001b[1;34m'NumMosquitos'\u001b[0m\u001b[1;33m,\u001b[0m \u001b[1;34m'Trap'\u001b[0m\u001b[1;33m,\u001b[0m\u001b[1;34m'Species'\u001b[0m\u001b[1;33m,\u001b[0m\u001b[1;34m'Latitude'\u001b[0m\u001b[1;33m,\u001b[0m\u001b[1;34m'Longitude'\u001b[0m\u001b[1;33m,\u001b[0m\u001b[1;34m'Yr'\u001b[0m\u001b[1;33m,\u001b[0m\u001b[1;34m'Mo'\u001b[0m\u001b[1;33m,\u001b[0m\u001b[1;34m'Week'\u001b[0m\u001b[1;33m]\u001b[0m\u001b[1;31m#'Date_end','Species',]\u001b[0m\u001b[1;33m\u001b[0m\u001b[0m\n\u001b[1;32m----> 8\u001b[1;33m \u001b[0mX_train\u001b[0m \u001b[1;33m=\u001b[0m \u001b[0mtrain\u001b[0m\u001b[1;33m.\u001b[0m\u001b[0mdrop\u001b[0m\u001b[1;33m(\u001b[0m\u001b[0mtoDrop\u001b[0m\u001b[1;33m,\u001b[0m \u001b[0maxis\u001b[0m \u001b[1;33m=\u001b[0m \u001b[1;34m'columns'\u001b[0m\u001b[1;33m)\u001b[0m\u001b[1;33m\u001b[0m\u001b[0m\n\u001b[0m\u001b[0;32m      9\u001b[0m \u001b[1;31m#X_train = X_train.iloc[:,4:] # dropping species, trap, date\u001b[0m\u001b[1;33m\u001b[0m\u001b[1;33m\u001b[0m\u001b[0m\n\u001b[0;32m     10\u001b[0m \u001b[0mX_test\u001b[0m \u001b[1;33m=\u001b[0m \u001b[0mtest\u001b[0m\u001b[1;33m.\u001b[0m\u001b[0mdrop\u001b[0m\u001b[1;33m(\u001b[0m\u001b[0mtoDrop\u001b[0m\u001b[1;33m,\u001b[0m \u001b[0maxis\u001b[0m \u001b[1;33m=\u001b[0m \u001b[1;34m'columns'\u001b[0m\u001b[1;33m)\u001b[0m\u001b[1;33m\u001b[0m\u001b[0m\n",
      "\u001b[1;32m~\\Anaconda3\\lib\\site-packages\\pandas\\core\\generic.py\u001b[0m in \u001b[0;36mdrop\u001b[1;34m(self, labels, axis, level, inplace, errors)\u001b[0m\n\u001b[0;32m   2159\u001b[0m                 \u001b[0mnew_axis\u001b[0m \u001b[1;33m=\u001b[0m \u001b[0maxis\u001b[0m\u001b[1;33m.\u001b[0m\u001b[0mdrop\u001b[0m\u001b[1;33m(\u001b[0m\u001b[0mlabels\u001b[0m\u001b[1;33m,\u001b[0m \u001b[0mlevel\u001b[0m\u001b[1;33m=\u001b[0m\u001b[0mlevel\u001b[0m\u001b[1;33m,\u001b[0m \u001b[0merrors\u001b[0m\u001b[1;33m=\u001b[0m\u001b[0merrors\u001b[0m\u001b[1;33m)\u001b[0m\u001b[1;33m\u001b[0m\u001b[0m\n\u001b[0;32m   2160\u001b[0m             \u001b[1;32melse\u001b[0m\u001b[1;33m:\u001b[0m\u001b[1;33m\u001b[0m\u001b[0m\n\u001b[1;32m-> 2161\u001b[1;33m                 \u001b[0mnew_axis\u001b[0m \u001b[1;33m=\u001b[0m \u001b[0maxis\u001b[0m\u001b[1;33m.\u001b[0m\u001b[0mdrop\u001b[0m\u001b[1;33m(\u001b[0m\u001b[0mlabels\u001b[0m\u001b[1;33m,\u001b[0m \u001b[0merrors\u001b[0m\u001b[1;33m=\u001b[0m\u001b[0merrors\u001b[0m\u001b[1;33m)\u001b[0m\u001b[1;33m\u001b[0m\u001b[0m\n\u001b[0m\u001b[0;32m   2162\u001b[0m             \u001b[0mdropped\u001b[0m \u001b[1;33m=\u001b[0m \u001b[0mself\u001b[0m\u001b[1;33m.\u001b[0m\u001b[0mreindex\u001b[0m\u001b[1;33m(\u001b[0m\u001b[1;33m**\u001b[0m\u001b[1;33m{\u001b[0m\u001b[0maxis_name\u001b[0m\u001b[1;33m:\u001b[0m \u001b[0mnew_axis\u001b[0m\u001b[1;33m}\u001b[0m\u001b[1;33m)\u001b[0m\u001b[1;33m\u001b[0m\u001b[0m\n\u001b[0;32m   2163\u001b[0m             \u001b[1;32mtry\u001b[0m\u001b[1;33m:\u001b[0m\u001b[1;33m\u001b[0m\u001b[0m\n",
      "\u001b[1;32m~\\Anaconda3\\lib\\site-packages\\pandas\\core\\indexes\\base.py\u001b[0m in \u001b[0;36mdrop\u001b[1;34m(self, labels, errors)\u001b[0m\n\u001b[0;32m   3622\u001b[0m             \u001b[1;32mif\u001b[0m \u001b[0merrors\u001b[0m \u001b[1;33m!=\u001b[0m \u001b[1;34m'ignore'\u001b[0m\u001b[1;33m:\u001b[0m\u001b[1;33m\u001b[0m\u001b[0m\n\u001b[0;32m   3623\u001b[0m                 raise ValueError('labels %s not contained in axis' %\n\u001b[1;32m-> 3624\u001b[1;33m                                  labels[mask])\n\u001b[0m\u001b[0;32m   3625\u001b[0m             \u001b[0mindexer\u001b[0m \u001b[1;33m=\u001b[0m \u001b[0mindexer\u001b[0m\u001b[1;33m[\u001b[0m\u001b[1;33m~\u001b[0m\u001b[0mmask\u001b[0m\u001b[1;33m]\u001b[0m\u001b[1;33m\u001b[0m\u001b[0m\n\u001b[0;32m   3626\u001b[0m         \u001b[1;32mreturn\u001b[0m \u001b[0mself\u001b[0m\u001b[1;33m.\u001b[0m\u001b[0mdelete\u001b[0m\u001b[1;33m(\u001b[0m\u001b[0mindexer\u001b[0m\u001b[1;33m)\u001b[0m\u001b[1;33m\u001b[0m\u001b[0m\n",
      "\u001b[1;31mValueError\u001b[0m: labels ['Species' 'Latitude' 'Longitude'] not contained in axis"
     ]
    }
   ],
   "source": [
    "test = df[df['Yr']==2009]\n",
    "train = df[df['Yr']!= 2009]\n",
    "\n",
    "y_train = train['WnvPresent']\n",
    "y_test = test['WnvPresent']\n",
    "\n",
    "toDrop = ['Date','WnvPresent','Location','NumMosquitos', 'Trap','Species','Latitude','Longitude','Yr','Mo','Week']#'Date_end','Species',]\n",
    "X_train = train.drop(toDrop, axis = 'columns')\n",
    "#X_train = X_train.iloc[:,4:] # dropping species, trap, date\n",
    "X_test = test.drop(toDrop, axis = 'columns')\n",
    "#X_test = X_test.iloc[:,4:] # dropping species, trap, date\n",
    "\n"
   ]
  },
  {
   "cell_type": "code",
   "execution_count": 96,
   "metadata": {},
   "outputs": [
    {
     "data": {
      "text/html": [
       "<div>\n",
       "<style>\n",
       "    .dataframe thead tr:only-child th {\n",
       "        text-align: right;\n",
       "    }\n",
       "\n",
       "    .dataframe thead th {\n",
       "        text-align: left;\n",
       "    }\n",
       "\n",
       "    .dataframe tbody tr th {\n",
       "        vertical-align: top;\n",
       "    }\n",
       "</style>\n",
       "<table border=\"1\" class=\"dataframe\">\n",
       "  <thead>\n",
       "    <tr style=\"text-align: right;\">\n",
       "      <th></th>\n",
       "      <th>Week</th>\n",
       "      <th>DewPointamax</th>\n",
       "      <th>DewPointamin</th>\n",
       "      <th>DewPointmean</th>\n",
       "      <th>StnPressureamax</th>\n",
       "      <th>StnPressureamin</th>\n",
       "      <th>StnPressuremean</th>\n",
       "      <th>AvgSpeedamax</th>\n",
       "      <th>AvgSpeedamin</th>\n",
       "      <th>AvgSpeedmean</th>\n",
       "      <th>...</th>\n",
       "      <th>Park2</th>\n",
       "      <th>Park3</th>\n",
       "      <th>Park4</th>\n",
       "      <th>Park5</th>\n",
       "      <th>Water0</th>\n",
       "      <th>Water1</th>\n",
       "      <th>Water2</th>\n",
       "      <th>Water3</th>\n",
       "      <th>Water4</th>\n",
       "      <th>Water5</th>\n",
       "    </tr>\n",
       "  </thead>\n",
       "  <tbody>\n",
       "    <tr>\n",
       "      <th>2783</th>\n",
       "      <td>22</td>\n",
       "      <td>71</td>\n",
       "      <td>23</td>\n",
       "      <td>50.74477</td>\n",
       "      <td>29.79</td>\n",
       "      <td>28.59</td>\n",
       "      <td>29.267364</td>\n",
       "      <td>21.5</td>\n",
       "      <td>2.7</td>\n",
       "      <td>8.840586</td>\n",
       "      <td>...</td>\n",
       "      <td>7622.901305</td>\n",
       "      <td>19319.121116</td>\n",
       "      <td>6090.6478</td>\n",
       "      <td>57976.436337</td>\n",
       "      <td>5.445062</td>\n",
       "      <td>-2.208052</td>\n",
       "      <td>0.66556</td>\n",
       "      <td>-0.069287</td>\n",
       "      <td>0.060115</td>\n",
       "      <td>-0.061254</td>\n",
       "    </tr>\n",
       "    <tr>\n",
       "      <th>2869</th>\n",
       "      <td>23</td>\n",
       "      <td>53</td>\n",
       "      <td>41</td>\n",
       "      <td>47.00000</td>\n",
       "      <td>29.36</td>\n",
       "      <td>29.09</td>\n",
       "      <td>29.204000</td>\n",
       "      <td>11.1</td>\n",
       "      <td>4.6</td>\n",
       "      <td>7.480000</td>\n",
       "      <td>...</td>\n",
       "      <td>7622.901305</td>\n",
       "      <td>19319.121116</td>\n",
       "      <td>6090.6478</td>\n",
       "      <td>57976.436337</td>\n",
       "      <td>5.445062</td>\n",
       "      <td>-2.208052</td>\n",
       "      <td>0.66556</td>\n",
       "      <td>-0.069287</td>\n",
       "      <td>0.060115</td>\n",
       "      <td>-0.061254</td>\n",
       "    </tr>\n",
       "  </tbody>\n",
       "</table>\n",
       "<p>2 rows × 27 columns</p>\n",
       "</div>"
      ],
      "text/plain": [
       "      Week  DewPointamax  DewPointamin  DewPointmean  StnPressureamax  \\\n",
       "2783    22            71            23      50.74477            29.79   \n",
       "2869    23            53            41      47.00000            29.36   \n",
       "\n",
       "      StnPressureamin  StnPressuremean  AvgSpeedamax  AvgSpeedamin  \\\n",
       "2783            28.59        29.267364          21.5           2.7   \n",
       "2869            29.09        29.204000          11.1           4.6   \n",
       "\n",
       "      AvgSpeedmean    ...           Park2         Park3      Park4  \\\n",
       "2783      8.840586    ...     7622.901305  19319.121116  6090.6478   \n",
       "2869      7.480000    ...     7622.901305  19319.121116  6090.6478   \n",
       "\n",
       "             Park5    Water0    Water1   Water2    Water3    Water4    Water5  \n",
       "2783  57976.436337  5.445062 -2.208052  0.66556 -0.069287  0.060115 -0.061254  \n",
       "2869  57976.436337  5.445062 -2.208052  0.66556 -0.069287  0.060115 -0.061254  \n",
       "\n",
       "[2 rows x 27 columns]"
      ]
     },
     "execution_count": 96,
     "metadata": {},
     "output_type": "execute_result"
    }
   ],
   "source": [
    "X_train.head(2)"
   ]
  },
  {
   "cell_type": "code",
   "execution_count": 107,
   "metadata": {},
   "outputs": [
    {
     "data": {
      "text/plain": [
       "0.57861425716189208"
      ]
     },
     "execution_count": 107,
     "metadata": {},
     "output_type": "execute_result"
    }
   ],
   "source": [
    "from sklearn.ensemble import RandomForestClassifier, GradientBoostingClassifier, BaggingClassifier, AdaBoostClassifier\n",
    "from sklearn.metrics import confusion_matrix, roc_auc_score\n",
    "gb = GradientBoostingClassifier()\n",
    "rf = RandomForestClassifier()\n",
    "bg = BaggingClassifier()\n",
    "ad = AdaBoostClassifier()\n",
    "\n",
    "rf.fit(X_train, y_train)\n",
    "rf.score(X_test,y_test)\n",
    "predProb = rf.predict_proba(X_test)\n",
    "roc_auc_score(y_test, predProb[:,1])"
   ]
  },
  {
   "cell_type": "code",
   "execution_count": 108,
   "metadata": {
    "scrolled": true
   },
   "outputs": [
    {
     "data": {
      "text/plain": [
       "0.73144292693759727"
      ]
     },
     "execution_count": 108,
     "metadata": {},
     "output_type": "execute_result"
    }
   ],
   "source": [
    "gb.fit(X_train, y_train)\n",
    "gb.score(X_test,y_test)\n",
    "predProb = gb.predict_proba(X_test)\n",
    "roc_auc_score(y_test, predProb[:,1])"
   ]
  },
  {
   "cell_type": "code",
   "execution_count": 109,
   "metadata": {},
   "outputs": [
    {
     "data": {
      "text/plain": [
       "0.74916722185209861"
      ]
     },
     "execution_count": 109,
     "metadata": {},
     "output_type": "execute_result"
    }
   ],
   "source": [
    "bg.fit(X_train, y_train)\n",
    "bg.score(X_test,y_test)\n",
    "predProb = bg.predict_proba(X_test)\n",
    "roc_auc_score(y_test, predProb[:,1])"
   ]
  },
  {
   "cell_type": "code",
   "execution_count": 110,
   "metadata": {},
   "outputs": [
    {
     "data": {
      "text/plain": [
       "0.80401954252720409"
      ]
     },
     "execution_count": 110,
     "metadata": {},
     "output_type": "execute_result"
    }
   ],
   "source": [
    "ad.fit(X_train, y_train)\n",
    "ad.score(X_test,y_test)\n",
    "predProb = ad.predict_proba(X_test)\n",
    "roc_auc_score(y_test, predProb[:,1])"
   ]
  },
  {
   "cell_type": "code",
   "execution_count": 111,
   "metadata": {},
   "outputs": [
    {
     "data": {
      "text/plain": [
       "0.80401954252720409"
      ]
     },
     "execution_count": 111,
     "metadata": {},
     "output_type": "execute_result"
    }
   ],
   "source": [
    "from sklearn.neighbors import KNeighborsClassifier\n",
    "kn = KNeighborsClassifier()\n",
    "kn.fit(X_train, y_train)\n",
    "preProb = kn.predict_proba(X_test)\n",
    "roc_auc_score(y_test, predProb[:,1])"
   ]
  },
  {
   "cell_type": "code",
   "execution_count": 112,
   "metadata": {},
   "outputs": [
    {
     "data": {
      "text/plain": [
       "0.64504219409282693"
      ]
     },
     "execution_count": 112,
     "metadata": {},
     "output_type": "execute_result"
    }
   ],
   "source": [
    "from sklearn.linear_model import LogisticRegression\n",
    "lr = LogisticRegression()\n",
    "lr.fit(X_train, y_train)\n",
    "predProb = lr.predict_proba(X_test)\n",
    "roc_auc_score(y_test, predProb[:,1])"
   ]
  },
  {
   "cell_type": "code",
   "execution_count": null,
   "metadata": {
    "collapsed": true
   },
   "outputs": [],
   "source": []
  }
 ],
 "metadata": {
  "kernelspec": {
   "display_name": "Python 3",
   "language": "python",
   "name": "python3"
  },
  "language_info": {
   "codemirror_mode": {
    "name": "ipython",
    "version": 3
   },
   "file_extension": ".py",
   "mimetype": "text/x-python",
   "name": "python",
   "nbconvert_exporter": "python",
   "pygments_lexer": "ipython3",
   "version": "3.6.3"
  }
 },
 "nbformat": 4,
 "nbformat_minor": 2
}
