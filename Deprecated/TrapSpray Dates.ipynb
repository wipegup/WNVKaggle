{
 "cells": [
  {
   "cell_type": "code",
   "execution_count": 103,
   "metadata": {
    "collapsed": true
   },
   "outputs": [],
   "source": [
    "import pickle\n",
    "import pandas as pd\n",
    "import numpy as np\n",
    "\n",
    "#data = [df,spray,(weather_st1, weather_st2)]\n",
    "\n",
    "with open('cleanData.pickle', 'rb') as f:\n",
    "    data = pickle.load(f)\n",
    "\n",
    "df = data[0]\n",
    "spray = data[1]"
   ]
  },
  {
   "cell_type": "code",
   "execution_count": 104,
   "metadata": {
    "collapsed": true
   },
   "outputs": [],
   "source": [
    "from scipy.spatial import cKDTree\n",
    "import numpy as np\n",
    "\n",
    "spray_dict = {}\n",
    "\n",
    "for i in spray['Date'].dt.date.unique():\n",
    "    spray_dict[i] = cKDTree( list(spray[spray['Date'] >= i ].loc[:,'Location']) )"
   ]
  },
  {
   "cell_type": "code",
   "execution_count": 107,
   "metadata": {
    "collapsed": true
   },
   "outputs": [],
   "source": [
    "spray_dates = list(spray_dict.keys())"
   ]
  },
  {
   "cell_type": "code",
   "execution_count": 142,
   "metadata": {
    "collapsed": true
   },
   "outputs": [],
   "source": [
    "def nearSpray(data, spray_dict, dist = .1):\n",
    "    toRet = {}\n",
    "    \n",
    "    for l in data['Location'].unique():\n",
    "        toRet[l] = {}\n",
    "        trapDates = data[ data['Location'] ==l]['Date'].unique()\n",
    "        trapDates.sort()\n",
    "        trapDates = [pd.Timestamp(d).date() for d in trapDates]\n",
    "        if trapDates[-1] > firstSpray:\n",
    "            for tDate in trapDates:\n",
    "                for sDate in spray_dates:\n",
    "                    before, after = False, False\n",
    "                    \n",
    "                    if ((tDate - sDate < pd.Timedelta(0)) &\n",
    "                    (tDate-sDate > pd.Timedelta(days=-8)) & \n",
    "                   (spray_dict[sDate].query(l,1)[0]*69 < dist)):\n",
    "                        before = True\n",
    "                    \n",
    "                    if ((tDate - sDate > pd.Timedelta(0)) &\n",
    "                    (tDate-sDate < pd.Timedelta(days=8)) & \n",
    "                   (spray_dict[sDate].query(l,1)[0]*69 < dist)):\n",
    "                        #print('hi')\n",
    "                        after = True\n",
    "                    \n",
    "                toRet[l][tDate] = (before, after)\n",
    "                \n",
    "                toRet2 = {}\n",
    "                for k1 in toRet:\n",
    "                    for k2 in toRet[k1]:\n",
    "                        toRet2[(k1,k2)] = toRet[k1][k2]\n",
    "                \n",
    "    df = pd.DataFrame().from_dict(toRet2).transpose()\n",
    "    df.columns = ['SprayBefore', 'SprayAfter']\n",
    "    df['Loc'] = df.index.map(lambda x: x[0])\n",
    "    df['Date'] = df.index.map(lambda x: x[1])\n",
    "    df.index = range(0,len(df))\n",
    "                \n",
    "    return df"
   ]
  },
  {
   "cell_type": "code",
   "execution_count": 143,
   "metadata": {},
   "outputs": [],
   "source": [
    "nearspray = nearSpray(df, spray_dict)"
   ]
  },
  {
   "cell_type": "code",
   "execution_count": null,
   "metadata": {
    "collapsed": true
   },
   "outputs": [],
   "source": []
  },
  {
   "cell_type": "code",
   "execution_count": 144,
   "metadata": {},
   "outputs": [
    {
     "data": {
      "text/html": [
       "<div>\n",
       "<style>\n",
       "    .dataframe thead tr:only-child th {\n",
       "        text-align: right;\n",
       "    }\n",
       "\n",
       "    .dataframe thead th {\n",
       "        text-align: left;\n",
       "    }\n",
       "\n",
       "    .dataframe tbody tr th {\n",
       "        vertical-align: top;\n",
       "    }\n",
       "</style>\n",
       "<table border=\"1\" class=\"dataframe\">\n",
       "  <thead>\n",
       "    <tr style=\"text-align: right;\">\n",
       "      <th></th>\n",
       "      <th>SprayBefore</th>\n",
       "      <th>SprayAfter</th>\n",
       "      <th>Loc</th>\n",
       "      <th>Date</th>\n",
       "    </tr>\n",
       "  </thead>\n",
       "  <tbody>\n",
       "    <tr>\n",
       "      <th>0</th>\n",
       "      <td>False</td>\n",
       "      <td>False</td>\n",
       "      <td>(-87.930995, 41.957799)</td>\n",
       "      <td>2009-06-03</td>\n",
       "    </tr>\n",
       "    <tr>\n",
       "      <th>1</th>\n",
       "      <td>False</td>\n",
       "      <td>False</td>\n",
       "      <td>(-87.930995, 41.957799)</td>\n",
       "      <td>2009-06-05</td>\n",
       "    </tr>\n",
       "    <tr>\n",
       "      <th>2</th>\n",
       "      <td>False</td>\n",
       "      <td>False</td>\n",
       "      <td>(-87.930995, 41.957799)</td>\n",
       "      <td>2009-06-15</td>\n",
       "    </tr>\n",
       "    <tr>\n",
       "      <th>3</th>\n",
       "      <td>False</td>\n",
       "      <td>False</td>\n",
       "      <td>(-87.930995, 41.957799)</td>\n",
       "      <td>2009-06-22</td>\n",
       "    </tr>\n",
       "    <tr>\n",
       "      <th>4</th>\n",
       "      <td>False</td>\n",
       "      <td>False</td>\n",
       "      <td>(-87.930995, 41.957799)</td>\n",
       "      <td>2009-06-29</td>\n",
       "    </tr>\n",
       "  </tbody>\n",
       "</table>\n",
       "</div>"
      ],
      "text/plain": [
       "   SprayBefore  SprayAfter                      Loc       Date\n",
       "0        False       False  (-87.930995, 41.957799) 2009-06-03\n",
       "1        False       False  (-87.930995, 41.957799) 2009-06-05\n",
       "2        False       False  (-87.930995, 41.957799) 2009-06-15\n",
       "3        False       False  (-87.930995, 41.957799) 2009-06-22\n",
       "4        False       False  (-87.930995, 41.957799) 2009-06-29"
      ]
     },
     "execution_count": 144,
     "metadata": {},
     "output_type": "execute_result"
    }
   ],
   "source": [
    "nearspray.head()"
   ]
  },
  {
   "cell_type": "markdown",
   "metadata": {},
   "source": [
    "### Deprecated"
   ]
  },
  {
   "cell_type": "code",
   "execution_count": 44,
   "metadata": {
    "collapsed": true
   },
   "outputs": [],
   "source": [
    "locSprayDates = {}\n",
    "spray_dates = list(spray_dict.keys())\n",
    "spray_dates.sort(reverse = True)\n",
    "deltas = []\n",
    "firstSpray = spray_dates[-1]\n",
    "\n",
    "for l in df['Location'].unique():\n",
    "    trapDates = df[ df['Location'] ==l]['Date'].unique()\n",
    "    trapDates.sort()\n",
    "    trapDates = [pd.Timestamp(d).date() for d in trapDates]\n",
    "    \n",
    "    pd.Timedelta(8)\n",
    "    if trapDates[-1] > firstSpray:\n",
    "        beforeDates = []\n",
    "        beforeDist = []\n",
    "        afterDates = []\n",
    "        afterDist = []\n",
    "        for tDate in trapDates:\n",
    "            for sDate in spray_dates:\n",
    "                deltas.append(tDate-sDate)\n",
    "                    \n",
    "                if ((tDate - sDate < pd.Timedelta(0)) & (tDate-sDate > pd.Timedelta(days=-8)) ):\n",
    "                    \n",
    "                    beforeDates.append((tDate, sDate, tDate-sDate))\n",
    "                    beforeDist.append(spray_dict[sDate].query(l,1))\n",
    "                    \n",
    "                if (tDate - sDate > pd.Timedelta(0)) & (tDate-sDate <pd.Timedelta(days =8)):\n",
    "                    \n",
    "                    afterDates.append((tDate, sDate, tDate-sDate))\n",
    "                    afterDist.append(spray_dict[sDate].query(l,1))\n",
    "        locSprayDates[l] = (beforeDates, beforeDist, afterDates, afterDist)\n",
    "        \n",
    "    \n"
   ]
  },
  {
   "cell_type": "code",
   "execution_count": 159,
   "metadata": {},
   "outputs": [
    {
     "data": {
      "text/plain": [
       "'amin'"
      ]
     },
     "execution_count": 159,
     "metadata": {},
     "output_type": "execute_result"
    }
   ],
   "source": [
    "str(np.min).split(' ')[1]"
   ]
  },
  {
   "cell_type": "code",
   "execution_count": null,
   "metadata": {
    "collapsed": true
   },
   "outputs": [],
   "source": [
    "agg_df = pd.DataFrame(columns=['Trap', 'Date_end',\n",
    "                               'Tmax_max', 'Tmin_min', 'Tavg_avg', \n",
    "                               'DewPoint_max', 'DewPoint_min', 'DewPoint_avg',\n",
    "                              'StnPressure_max','StnPressure_min', 'StnPressure_avg',\n",
    "                              'PrecipTotal_total',\n",
    "                              'AvgSpeed_avg'])"
   ]
  },
  {
   "cell_type": "code",
   "execution_count": 160,
   "metadata": {
    "collapsed": true
   },
   "outputs": [],
   "source": [
    "def aggWeatherForObs(data, weather):\n",
    "    agg = []\n",
    "\n",
    "    def calculate_agregate (trap_df, weather_sub, end_date):\n",
    "\n",
    "        toRet = pd.Series()\n",
    "\n",
    "        toRet['Trap'] = trap_df.loc[0,'Trap'] \n",
    "        toRet['Date_end'] = end_date\n",
    "\n",
    "        for c in ['DewPoint', 'StnPressure', 'AvgSpeed']:\n",
    "            for f in [np.max, np.min, np.mean]:\n",
    "                toRet.loc[c+str(f).split(' ')[1]] = f(weather_sub[c])\n",
    "\n",
    "        toRet['temp_max'] = weather_sub['Tmax'].max()\n",
    "        toRet['temp_min'] = weather_sub['Tmin'].min()\n",
    "        toRet['temp_avg'] = weather_sub['Tavg'].mean()\n",
    "\n",
    "        toRet['precip_total'] = weather_sub['PrecipTotal'].sum()\n",
    "        toRet['precip_avg'] = toRet['precip_total'] / len(weather_sub)\n",
    "\n",
    "        return toRet\n",
    "\n",
    "    trapDFs =[]\n",
    "    for trap in data['Trap'].unique():\n",
    "        trapDFs.append(df[ df['Trap'] == trap ])\n",
    "\n",
    "    for tDF in trapDFs:\n",
    "\n",
    "        dates = tDF.sort_values('Date')['Date'].unique()\n",
    "        dates = np.insert(dates, 0, dates[0] - pd.Timedelta(days=15))\n",
    "\n",
    "        dateRanges=[]\n",
    "\n",
    "        for i in range(len(dates)-1):\n",
    "            dateRanges.append( (dates[i] , dates[i+1]) )\n",
    "\n",
    "            start_date = dateRanges[i][0]\n",
    "            end_date = dateRanges[i][1]\n",
    "\n",
    "            #Select dataframe rows between two dates in weather\n",
    "            mask = (weather['Date'] > start_date) & (weather['Date'] <= end_date)\n",
    "\n",
    "            weather_sub = weather_st1.loc[mask]\n",
    "\n",
    "            agg.append( calculate_agregate(tDF, weather_sub, end_date) )\n",
    "            \n",
    "    return pd.DataFrame(agg)\n",
    "        "
   ]
  },
  {
   "cell_type": "code",
   "execution_count": null,
   "metadata": {
    "collapsed": true
   },
   "outputs": [],
   "source": []
  },
  {
   "cell_type": "code",
   "execution_count": 52,
   "metadata": {
    "collapsed": true
   },
   "outputs": [],
   "source": [
    "import matplotlib.pyplot as plt\n",
    "\n",
    "%matplotlib inline"
   ]
  },
  {
   "cell_type": "code",
   "execution_count": 75,
   "metadata": {
    "scrolled": false
   },
   "outputs": [
    {
     "data": {
      "image/png": "[encoded data removed]",
      "text/plain": [
       "<matplotlib.figure.Figure at 0x2b49348c160>"
      ]
     },
     "metadata": {},
     "output_type": "display_data"
    }
   ],
   "source": [
    "df2 = pd.DataFrame().from_dict(locSprayDates)\n",
    "df2 = df2.transpose()\n",
    "for i in range(len(df2)):\n",
    "    dists = df2.iloc[i,1]\n",
    "    plt.hist([d[0]*69 for d in dists if (d[0]*69>.1) & (d[0]*69<.2)\n",
    "             ])"
   ]
  }
 ],
 "metadata": {
  "kernelspec": {
   "display_name": "Python 3",
   "language": "python",
   "name": "python3"
  },
  "language_info": {
   "codemirror_mode": {
    "name": "ipython",
    "version": 3
   },
   "file_extension": ".py",
   "mimetype": "text/x-python",
   "name": "python",
   "nbconvert_exporter": "python",
   "pygments_lexer": "ipython3",
   "version": "3.6.3"
  }
 },
 "nbformat": 4,
 "nbformat_minor": 2
}
