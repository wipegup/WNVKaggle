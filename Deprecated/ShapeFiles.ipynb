{
 "cells": [
  {
   "cell_type": "markdown",
   "metadata": {},
   "source": [
    "### Distances to Parks / Water\n",
    "\n",
    "Given shapefiles of the various parks and water featuers in the city of chicago, how far are each of the trap locations from each park/ water feature.  \n",
    "\n",
    "Then using SVD, create variables upon which to regress upon"
   ]
  },
  {
   "cell_type": "code",
   "execution_count": 2,
   "metadata": {
    "collapsed": true
   },
   "outputs": [],
   "source": [
    "import pickle\n",
    "\n",
    "#data = [df,spray,(weather_st1, weather_st2)]\n",
    "\n",
    "with open('cleanData.pickle', 'rb') as f:\n",
    "    data = pickle.load(f)\n",
    "    \n",
    "df = data[0]"
   ]
  },
  {
   "cell_type": "code",
   "execution_count": 3,
   "metadata": {
    "collapsed": true
   },
   "outputs": [],
   "source": [
    "import shapefile\n",
    "from scipy.spatial import cKDTree\n",
    "import numpy as np\n",
    "import pandas as pd"
   ]
  },
  {
   "cell_type": "code",
   "execution_count": 4,
   "metadata": {
    "collapsed": true
   },
   "outputs": [],
   "source": [
    "from os import listdir\n",
    "from os.path import isfile, join\n",
    "\n",
    "parkDir = './AddData/Parks/'\n",
    "waterDir = './AddData/Water/'\n",
    "\n",
    "parks = [f for f in listdir(parkDir) if isfile(join(parkDir,f)) if f.count('.csv') ==0]\n",
    "water = [f for f in listdir(waterDir) if isfile(join(waterDir,f))if f.count('.csv') ==0]\n",
    "\n",
    "parkShape = parkDir + parks[0].split('.')[0]\n",
    "waterShape = waterDir + water[0].split('.')[0]"
   ]
  },
  {
   "cell_type": "code",
   "execution_count": 5,
   "metadata": {
    "collapsed": true
   },
   "outputs": [],
   "source": [
    "psf = shapefile.Reader(parkShape)\n",
    "wsf = shapefile.Reader(waterShape)\n",
    "\n",
    "parkSR = psf.shapeRecords()\n",
    "waterSR = wsf.shapeRecords()"
   ]
  },
  {
   "cell_type": "code",
   "execution_count": 6,
   "metadata": {},
   "outputs": [
    {
     "data": {
      "text/plain": [
       "1.14"
      ]
     },
     "execution_count": 6,
     "metadata": {},
     "output_type": "execute_result"
    }
   ],
   "source": [
    "parkSR[0].record[19] ## Area of park"
   ]
  },
  {
   "cell_type": "code",
   "execution_count": 7,
   "metadata": {
    "collapsed": true
   },
   "outputs": [],
   "source": [
    "parkSize = {}\n",
    "for s in parkSR:\n",
    "    parkSize[s.record[4]] = s.record[19]"
   ]
  },
  {
   "cell_type": "code",
   "execution_count": 8,
   "metadata": {},
   "outputs": [
    {
     "data": {
      "text/plain": [
       "790"
      ]
     },
     "execution_count": 8,
     "metadata": {},
     "output_type": "execute_result"
    }
   ],
   "source": [
    "len(waterSR[0].shape.points)"
   ]
  },
  {
   "cell_type": "code",
   "execution_count": 9,
   "metadata": {
    "collapsed": true
   },
   "outputs": [],
   "source": [
    "# Create cKDTree functions in Dict\n",
    "\n",
    "# Key: Identifier (number for water, park name for park)\n",
    "# Value: cKDTree function built on all the points associated with water/park feature\n",
    "\n",
    "waterFinder={}\n",
    "for i, s in enumerate(waterSR):\n",
    "    waterFinder[i] = cKDTree(s.shape.points)\n",
    "\n",
    "parkFinder = {}\n",
    "for s in parkSR:\n",
    "    parkFinder[s.record[4]] = cKDTree(s.shape.points)"
   ]
  },
  {
   "cell_type": "code",
   "execution_count": 10,
   "metadata": {
    "collapsed": true
   },
   "outputs": [],
   "source": [
    "# Builds Distance Dictionaries:\n",
    "# Key 1: Unique Location from DF\n",
    "# Key 2: water/park ID\n",
    "# Value: Distance from K1 to K2 (and park size for parks)\n",
    "\n",
    "uniqueLocs = df['Location'].unique()\n",
    "parkDist = {}\n",
    "waterDist = {}\n",
    "\n",
    "for l in uniqueLocs:\n",
    "    parkDist[l] = {}\n",
    "    waterDist[l] = {}\n",
    "    \n",
    "    for k in parkFinder:\n",
    "        parkDist[l][k]= (parkFinder[k].query(l,1)[0], parkSize[k])\n",
    "    \n",
    "    for k in waterFinder:\n",
    "        waterDist[l][k] = waterFinder[k].query(l,1)[0]"
   ]
  },
  {
   "cell_type": "markdown",
   "metadata": {},
   "source": [
    "### Code Below For Script"
   ]
  },
  {
   "cell_type": "code",
   "execution_count": 11,
   "metadata": {
    "collapsed": true
   },
   "outputs": [],
   "source": [
    "import shapefile\n",
    "from scipy.spatial import cKDTree\n",
    "import numpy as np\n",
    "import pandas as pd\n",
    "from os import listdir\n",
    "from os.path import isfile, join\n",
    "from sklearn.decomposition import TruncatedSVD\n",
    "\n",
    "# Park and water shapefile locations\n",
    "parkDir = './AddData/Parks/'\n",
    "waterDir = './AddData/Water/'\n",
    "\n",
    "#######\n",
    "# Builds, then returns a dictionary of parksize, parkFinder, and waterFinder\n",
    "#######\n",
    "def buildWaterAndParkDicts(parkDir, waterDir):\n",
    "\n",
    "    # Park and water shapefile names\n",
    "    parks = [f for f in listdir(parkDir) if isfile(join(parkDir,f)) if f.count('.csv') ==0]\n",
    "    water = [f for f in listdir(waterDir) if isfile(join(waterDir,f))if f.count('.csv') ==0]\n",
    "\n",
    "    parkShape = parkDir + parks[0].split('.')[0]\n",
    "    waterShape = waterDir + water[0].split('.')[0]\n",
    "\n",
    "    # Read in shapefiles, then the shapes/records\n",
    "    psf = shapefile.Reader(parkShape)\n",
    "    wsf = shapefile.Reader(waterShape)\n",
    "\n",
    "    parkSR = psf.shapeRecords()\n",
    "    waterSR = wsf.shapeRecords()\n",
    "\n",
    "    # Create a parksize dictionary, keyed on parkname\n",
    "    parkSize = {}\n",
    "    for s in parkSR:\n",
    "        parkSize[s.record[4]] = s.record[19]\n",
    "\n",
    "    # Create cKDTree functions in Dict\n",
    "\n",
    "    # Key: Identifier (number for water, park name for park)\n",
    "    # Value: cKDTree function built on all the points associated with water/park feature\n",
    "\n",
    "    waterFinder={}\n",
    "    for i, s in enumerate(waterSR):\n",
    "        waterFinder[i] = cKDTree(s.shape.points)\n",
    "\n",
    "    parkFinder = {}\n",
    "    for s in parkSR:\n",
    "        parkFinder[s.record[4]] = cKDTree(s.shape.points)\n",
    "    \n",
    "    return parkSize, parkFinder, waterFinder"
   ]
  },
  {
   "cell_type": "code",
   "execution_count": 12,
   "metadata": {
    "collapsed": true
   },
   "outputs": [],
   "source": [
    "ps, pf, wf = buildWaterAndParkDicts(parkDir, waterDir)"
   ]
  },
  {
   "cell_type": "code",
   "execution_count": 22,
   "metadata": {
    "collapsed": true
   },
   "outputs": [],
   "source": [
    "from sklearn.decomposition import TruncatedSVD\n",
    "def yeildParkSVD(parkSize, parkFinder, uniqueLocs, TruncSVD = 'calc', comps = 4):\n",
    "    \n",
    "    parkDist = {}\n",
    "    \n",
    "    for l in uniqueLocs:\n",
    "        parkDist[l] = {}\n",
    "        for k in parkFinder:\n",
    "            dist = parkFinder[k].query(l,1)[0]\n",
    "            size = parkSize[k]\n",
    "            parkDist[l][k] = (dist, size, size/(dist**2))\n",
    "    \n",
    "    parkDF = pd.DataFrame()\n",
    "    parkDF = parkDF.from_dict(parkDist)\n",
    "    parkDF = parkDF.transpose()\n",
    "    parkDF.index = [idx for idx in parkDF.index]\n",
    "    \n",
    "    for c in parkDF:\n",
    "        parkDF[c+' Area'] = [e[1] for e in parkDF[c]]\n",
    "        #parkDF[c+ ' Effect'] = [e[2] for e in parkDF[c]]\n",
    "        parkDF[c] = [e[0] for e in parkDF[c]]\n",
    "    \n",
    "    if TruncSVD == 'calc':\n",
    "        TruncSVD = TruncatedSVD(n_components = comps)\n",
    "        TruncSVD.fit(parkDF)\n",
    "    \n",
    "    toRet = TruncSVD.transform(parkDF)\n",
    "    \n",
    "    toRet = pd.DataFrame(toRet, index = parkDF.index)\n",
    "    return toRet, TruncSVD    "
   ]
  },
  {
   "cell_type": "code",
   "execution_count": 23,
   "metadata": {
    "collapsed": true
   },
   "outputs": [],
   "source": [
    "pdf, ptsvd = yeildParkSVD(ps, pf, uniqueLocs, comps = 6)"
   ]
  },
  {
   "cell_type": "code",
   "execution_count": 24,
   "metadata": {
    "scrolled": true
   },
   "outputs": [
    {
     "data": {
      "image/png": "[encoded data removed]",
      "text/plain": [
       "<matplotlib.figure.Figure at 0x24bba015550>"
      ]
     },
     "metadata": {},
     "output_type": "display_data"
    }
   ],
   "source": [
    "import matplotlib.pyplot as plt\n",
    "%matplotlib inline\n",
    "\n",
    "plt.plot(range(6), ptsvd.explained_variance_ratio_.cumsum());"
   ]
  },
  {
   "cell_type": "code",
   "execution_count": 25,
   "metadata": {},
   "outputs": [
    {
     "data": {
      "text/plain": [
       "array([  9.65493381e-07,   6.78534936e-01,   9.30910545e-01,\n",
       "         9.79852589e-01,   9.85957425e-01,   9.91574609e-01])"
      ]
     },
     "execution_count": 25,
     "metadata": {},
     "output_type": "execute_result"
    }
   ],
   "source": [
    "ptsvd.explained_variance_ratio_.cumsum()"
   ]
  },
  {
   "cell_type": "code",
   "execution_count": 16,
   "metadata": {},
   "outputs": [
    {
     "data": {
      "text/html": [
       "<div>\n",
       "<style>\n",
       "    .dataframe thead tr:only-child th {\n",
       "        text-align: right;\n",
       "    }\n",
       "\n",
       "    .dataframe thead th {\n",
       "        text-align: left;\n",
       "    }\n",
       "\n",
       "    .dataframe tbody tr th {\n",
       "        vertical-align: top;\n",
       "    }\n",
       "</style>\n",
       "<table border=\"1\" class=\"dataframe\">\n",
       "  <thead>\n",
       "    <tr style=\"text-align: right;\">\n",
       "      <th></th>\n",
       "      <th>0</th>\n",
       "      <th>1</th>\n",
       "      <th>2</th>\n",
       "      <th>3</th>\n",
       "      <th>4</th>\n",
       "      <th>5</th>\n",
       "    </tr>\n",
       "  </thead>\n",
       "  <tbody>\n",
       "    <tr>\n",
       "      <th>(-87.930995, 41.957799)</th>\n",
       "      <td>15659.729641</td>\n",
       "      <td>3853.46179</td>\n",
       "      <td>3827.455257</td>\n",
       "      <td>4010.159684</td>\n",
       "      <td>2838.195238</td>\n",
       "      <td>2600.721306</td>\n",
       "    </tr>\n",
       "    <tr>\n",
       "      <th>(-87.890615, 41.974689)</th>\n",
       "      <td>21658.491035</td>\n",
       "      <td>4478.92493</td>\n",
       "      <td>4321.933261</td>\n",
       "      <td>5544.188179</td>\n",
       "      <td>3330.429771</td>\n",
       "      <td>4322.334759</td>\n",
       "    </tr>\n",
       "  </tbody>\n",
       "</table>\n",
       "</div>"
      ],
      "text/plain": [
       "                                    0           1            2            3  \\\n",
       "(-87.930995, 41.957799)  15659.729641  3853.46179  3827.455257  4010.159684   \n",
       "(-87.890615, 41.974689)  21658.491035  4478.92493  4321.933261  5544.188179   \n",
       "\n",
       "                                   4            5  \n",
       "(-87.930995, 41.957799)  2838.195238  2600.721306  \n",
       "(-87.890615, 41.974689)  3330.429771  4322.334759  "
      ]
     },
     "execution_count": 16,
     "metadata": {},
     "output_type": "execute_result"
    }
   ],
   "source": [
    "pdf.head(2)"
   ]
  },
  {
   "cell_type": "code",
   "execution_count": 17,
   "metadata": {
    "collapsed": true
   },
   "outputs": [],
   "source": [
    "from sklearn.decomposition import TruncatedSVD\n",
    "def yeildWaterSVD(waterFinder, uniqueLocs, TruncSVD = 'calc', comps = 4):\n",
    "    \n",
    "    waterDist = {}\n",
    "    \n",
    "    for l in uniqueLocs:\n",
    "        waterDist[l] = {}\n",
    "        for k in waterFinder:\n",
    "            waterDist[l][k] = waterFinder[k].query(l,1)[0]\n",
    "    \n",
    "    waterDF = pd.DataFrame()\n",
    "    waterDF = waterDF.from_dict(waterDist)\n",
    "    waterDF = waterDF.transpose()\n",
    "    waterDF.index = [idx for idx in waterDF.index]\n",
    "     \n",
    "    if TruncSVD == 'calc':\n",
    "        TruncSVD = TruncatedSVD(n_components = comps)\n",
    "        TruncSVD.fit(waterDF)\n",
    "    \n",
    "    toRet = TruncSVD.transform(waterDF)\n",
    "    \n",
    "    toRet = pd.DataFrame(toRet, index = waterDF.index)\n",
    "    return toRet, TruncSVD    "
   ]
  },
  {
   "cell_type": "code",
   "execution_count": 18,
   "metadata": {
    "collapsed": true
   },
   "outputs": [],
   "source": [
    "wdf, wtsvd = yeildWaterSVD(wf, uniqueLocs, comps = 6)"
   ]
  },
  {
   "cell_type": "code",
   "execution_count": 19,
   "metadata": {},
   "outputs": [
    {
     "data": {
      "image/png": "[encoded data removed]",
      "text/plain": [
       "<matplotlib.figure.Figure at 0x24bb56b5b38>"
      ]
     },
     "metadata": {},
     "output_type": "display_data"
    }
   ],
   "source": [
    "import matplotlib.pyplot as plt\n",
    "%matplotlib inline\n",
    "\n",
    "plt.plot(range(6), wtsvd.explained_variance_ratio_.cumsum());"
   ]
  },
  {
   "cell_type": "code",
   "execution_count": 20,
   "metadata": {},
   "outputs": [
    {
     "data": {
      "text/plain": [
       "array([ 0.10318219,  0.87208568,  0.96334826,  0.98877267,  0.9936156 ,\n",
       "        0.99588372])"
      ]
     },
     "execution_count": 20,
     "metadata": {},
     "output_type": "execute_result"
    }
   ],
   "source": [
    "wtsvd.explained_variance_ratio_.cumsum()"
   ]
  },
  {
   "cell_type": "code",
   "execution_count": 90,
   "metadata": {},
   "outputs": [
    {
     "data": {
      "text/html": [
       "<div>\n",
       "<style>\n",
       "    .dataframe thead tr:only-child th {\n",
       "        text-align: right;\n",
       "    }\n",
       "\n",
       "    .dataframe thead th {\n",
       "        text-align: left;\n",
       "    }\n",
       "\n",
       "    .dataframe tbody tr th {\n",
       "        vertical-align: top;\n",
       "    }\n",
       "</style>\n",
       "<table border=\"1\" class=\"dataframe\">\n",
       "  <thead>\n",
       "    <tr style=\"text-align: right;\">\n",
       "      <th></th>\n",
       "      <th>0</th>\n",
       "      <th>1</th>\n",
       "      <th>2</th>\n",
       "      <th>3</th>\n",
       "      <th>4</th>\n",
       "      <th>5</th>\n",
       "    </tr>\n",
       "  </thead>\n",
       "  <tbody>\n",
       "    <tr>\n",
       "      <th>(-87.930995, 41.957799)</th>\n",
       "      <td>7.452501</td>\n",
       "      <td>-2.415331</td>\n",
       "      <td>2.122308</td>\n",
       "      <td>-0.353222</td>\n",
       "      <td>0.585042</td>\n",
       "      <td>0.305456</td>\n",
       "    </tr>\n",
       "    <tr>\n",
       "      <th>(-87.890615, 41.974689)</th>\n",
       "      <td>6.846056</td>\n",
       "      <td>-2.593422</td>\n",
       "      <td>1.839218</td>\n",
       "      <td>-0.280489</td>\n",
       "      <td>0.525015</td>\n",
       "      <td>0.210701</td>\n",
       "    </tr>\n",
       "  </tbody>\n",
       "</table>\n",
       "</div>"
      ],
      "text/plain": [
       "                                0         1         2         3         4  \\\n",
       "(-87.930995, 41.957799)  7.452501 -2.415331  2.122308 -0.353222  0.585042   \n",
       "(-87.890615, 41.974689)  6.846056 -2.593422  1.839218 -0.280489  0.525015   \n",
       "\n",
       "                                5  \n",
       "(-87.930995, 41.957799)  0.305456  \n",
       "(-87.890615, 41.974689)  0.210701  "
      ]
     },
     "execution_count": 90,
     "metadata": {},
     "output_type": "execute_result"
    }
   ],
   "source": [
    "wdf.head(2)"
   ]
  },
  {
   "cell_type": "markdown",
   "metadata": {},
   "source": [
    "## Deprecated"
   ]
  },
  {
   "cell_type": "code",
   "execution_count": 11,
   "metadata": {
    "collapsed": true
   },
   "outputs": [],
   "source": [
    "# Dictionary For water features where:\n",
    "# Key: Location\n",
    "# Value: Distance to nearest water feature\n",
    "\n",
    "distToWater = {}\n",
    "for k in waterDist:\n",
    "    distToWater[k] = min(waterDist[k].values())\n",
    "\n",
    "# Dictionary for park features where:\n",
    "# Key: Unique Location\n",
    "# Value: Sum of proximity influence of all parks\n",
    "# Proximity influence based on inverse square law:\n",
    "# sum of all [ area of park / (distance to park)^2]\n",
    "\n",
    "parkProx = {}\n",
    "\n",
    "for k in parkDist:\n",
    "    proxVal = 0\n",
    "    for k2 in parkDist[k]:\n",
    "        current = parkDist[k][k2]\n",
    "        #print(current[1])\n",
    "        #print(current[0]**2)\n",
    "        proxVal += current[1] / ((1*current[0])**2)\n",
    "    \n",
    "    parkProx[k] = proxVal"
   ]
  }
 ],
 "metadata": {
  "kernelspec": {
   "display_name": "Python 3",
   "language": "python",
   "name": "python3"
  },
  "language_info": {
   "codemirror_mode": {
    "name": "ipython",
    "version": 3
   },
   "file_extension": ".py",
   "mimetype": "text/x-python",
   "name": "python",
   "nbconvert_exporter": "python",
   "pygments_lexer": "ipython3",
   "version": "3.6.3"
  }
 },
 "nbformat": 4,
 "nbformat_minor": 2
}
