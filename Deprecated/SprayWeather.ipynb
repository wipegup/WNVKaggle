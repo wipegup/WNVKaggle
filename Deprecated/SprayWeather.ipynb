{
 "cells": [
  {
   "cell_type": "code",
   "execution_count": 20,
   "metadata": {},
   "outputs": [],
   "source": [
    "import pickle\n",
    "import pandas as pd\n",
    "\n",
    "#data = [df,spray,(weather_st1, weather_st2)]\n",
    "\n",
    "with open('cleanData.pickle', 'rb') as f:\n",
    "    data = pickle.load(f)\n",
    "\n",
    "weather_st1, weather_st2 = data[2]\n",
    "spray = data[1]"
   ]
  },
  {
   "cell_type": "code",
   "execution_count": 40,
   "metadata": {
    "collapsed": true
   },
   "outputs": [],
   "source": [
    "import datetime"
   ]
  },
  {
   "cell_type": "code",
   "execution_count": 54,
   "metadata": {},
   "outputs": [],
   "source": [
    "uniqueDates = spray['Date'].dt.date.unique()"
   ]
  },
  {
   "cell_type": "code",
   "execution_count": 71,
   "metadata": {},
   "outputs": [],
   "source": [
    "spraySunset = {}\n",
    "\n",
    "# Given a date (that there was spraying on)\n",
    "# When did the sunset?\n",
    "\n",
    "for d in uniqueDates:\n",
    "    sunset= weather_st1[weather_st1['Date'].dt.date == d]['Sunset'].iloc[0]\n",
    "    \n",
    "    spraySunset[d] = sunset.hour + (60/sunset.minute)"
   ]
  },
  {
   "cell_type": "code",
   "execution_count": 85,
   "metadata": {
    "collapsed": true
   },
   "outputs": [],
   "source": [
    "def getWeatherDay(date):\n",
    "    st1 = weather_st1[weather_st1['Date'].dt.date == d]\n",
    "    st2 = weather_st2[weather_st2['Date'].dt.date == d]\n",
    "    \n",
    "    return st1, st2\n",
    "\n",
    "sprayWind = {}\n",
    "\n",
    "# Given a data (that there was spraying)\n",
    "# What were the observed wind conditions from both stations?\n",
    "# List of 3tuples\n",
    "# ResultSpeed, ResultDir, AvgSpeed\n",
    "\n",
    "\n",
    "for d in uniqueDates:\n",
    "    sta = getWeatherDay(d)\n",
    "    windL=[]\n",
    "    for s in sta:\n",
    "        sto = []\n",
    "        for c in  ['ResultSpeed','ResultDir','AvgSpeed']:\n",
    "            sto.append(s[c].iloc[0])\n",
    "        windL.append(tuple(sto))\n",
    "        \n",
    "    sprayWind[d] = windL"
   ]
  },
  {
   "cell_type": "code",
   "execution_count": 86,
   "metadata": {},
   "outputs": [
    {
     "data": {
      "text/plain": [
       "{datetime.date(2011, 8, 29): [(1.3999999999999999, 2, 3.5),\n",
       "  (1.1000000000000001, 6, 4.2000000000000002)],\n",
       " datetime.date(2011, 9, 7): [(10.199999999999999, 1, 10.800000000000001),\n",
       "  (12.4, 2, 13.300000000000001)],\n",
       " datetime.date(2013, 7, 17): [(6.7000000000000002, 26, 6.9000000000000004),\n",
       "  (6.2000000000000002, 25, 7.0999999999999996)],\n",
       " datetime.date(2013, 7, 25): [(4.0999999999999996, 23, 5.0999999999999996),\n",
       "  (2.7000000000000002, 23, 3.8999999999999999)],\n",
       " datetime.date(2013, 8, 8): [(8.5999999999999996, 5, 9.3000000000000007),\n",
       "  (10.5, 5, 10.800000000000001)],\n",
       " datetime.date(2013, 8, 15): [(4.2000000000000002, 24, 4.9000000000000004),\n",
       "  (4.5, 22, 5.0)],\n",
       " datetime.date(2013, 8, 16): [(2.7999999999999998, 4, 5.2000000000000002),\n",
       "  (5.0, 7, 5.7999999999999998)],\n",
       " datetime.date(2013, 8, 22): [(1.5, 23, 7.0), (2.5, 24, 7.0)],\n",
       " datetime.date(2013, 8, 29): [(3.8999999999999999, 10, 4.7000000000000002),\n",
       "  (4.2000000000000002, 10, 4.5999999999999996)],\n",
       " datetime.date(2013, 9, 5): [(9.0, 5, 9.1999999999999993),\n",
       "  (9.1999999999999993, 6, 9.9000000000000004)]}"
      ]
     },
     "execution_count": 86,
     "metadata": {},
     "output_type": "execute_result"
    }
   ],
   "source": [
    "sprayWind"
   ]
  }
 ],
 "metadata": {
  "kernelspec": {
   "display_name": "Python 3",
   "language": "python",
   "name": "python3"
  },
  "language_info": {
   "codemirror_mode": {
    "name": "ipython",
    "version": 3
   },
   "file_extension": ".py",
   "mimetype": "text/x-python",
   "name": "python",
   "nbconvert_exporter": "python",
   "pygments_lexer": "ipython3",
   "version": "3.6.3"
  }
 },
 "nbformat": 4,
 "nbformat_minor": 2
}
